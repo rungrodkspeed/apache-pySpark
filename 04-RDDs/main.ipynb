{
 "cells": [
  {
   "cell_type": "code",
   "execution_count": 1,
   "id": "0ee6488e-28d9-4956-897e-62fcb8f75e2d",
   "metadata": {},
   "outputs": [
    {
     "name": "stderr",
     "output_type": "stream",
     "text": [
      "Setting default log level to \"WARN\".\n",
      "To adjust logging level use sc.setLogLevel(newLevel). For SparkR, use setLogLevel(newLevel).\n"
     ]
    }
   ],
   "source": [
    "from pyspark.sql import SparkSession\n",
    "\n",
    "spark = SparkSession.builder.appName(\"RDD-Demo\").getOrCreate()"
   ]
  },
  {
   "cell_type": "code",
   "execution_count": 2,
   "id": "a57215aa-e1af-4784-9d71-7451738ae4cf",
   "metadata": {},
   "outputs": [],
   "source": [
    "numbers = [1, 2, 3, 4, 5]\n",
    "rdd = spark.sparkContext.parallelize(numbers)"
   ]
  },
  {
   "cell_type": "code",
   "execution_count": 3,
   "id": "a01857a6-ea51-4401-ae86-e759745849b2",
   "metadata": {},
   "outputs": [
    {
     "data": {
      "text/plain": [
       "[1, 2, 3, 4, 5]"
      ]
     },
     "execution_count": 3,
     "metadata": {},
     "output_type": "execute_result"
    }
   ],
   "source": [
    "rdd.collect()"
   ]
  },
  {
   "cell_type": "code",
   "execution_count": 4,
   "id": "e3b43f8f-b440-4f3d-a659-ff96ca603167",
   "metadata": {},
   "outputs": [],
   "source": [
    "data = [(\"Alice\", 25), (\"Bob\", 30), (\"Charlie\", 35), (\"Alice\", 40)]\n",
    "rdd = spark.sparkContext.parallelize(data)"
   ]
  },
  {
   "cell_type": "code",
   "execution_count": 5,
   "id": "792b15c4-33c5-45f2-afee-6585de0e9b96",
   "metadata": {},
   "outputs": [
    {
     "name": "stdout",
     "output_type": "stream",
     "text": [
      "All elements of the rdd: [('Alice', 25), ('Bob', 30), ('Charlie', 35), ('Alice', 40)]\n"
     ]
    }
   ],
   "source": [
    "print(f\"All elements of the rdd: {rdd.collect()}\")"
   ]
  },
  {
   "cell_type": "markdown",
   "id": "3ff123e4-f50d-4bc5-9dfb-abe5f3d181f9",
   "metadata": {},
   "source": [
    "# RDDs Operation: Actions"
   ]
  },
  {
   "cell_type": "code",
   "execution_count": 6,
   "id": "c70d7c69-4d61-4334-83d4-464f25e075fd",
   "metadata": {},
   "outputs": [
    {
     "name": "stderr",
     "output_type": "stream",
     "text": [
      "[Stage 2:>                                                        (0 + 16) / 16]"
     ]
    },
    {
     "name": "stdout",
     "output_type": "stream",
     "text": [
      "The total number of elements in rdd: 4\n"
     ]
    },
    {
     "name": "stderr",
     "output_type": "stream",
     "text": [
      "                                                                                "
     ]
    }
   ],
   "source": [
    "print(f\"The total number of elements in rdd: {rdd.count()}\")"
   ]
  },
  {
   "cell_type": "code",
   "execution_count": 7,
   "id": "4eb5184c-4770-471b-a7dc-c4bd4960506e",
   "metadata": {},
   "outputs": [
    {
     "name": "stdout",
     "output_type": "stream",
     "text": [
      "The first element of the rdd: ('Alice', 25)\n"
     ]
    }
   ],
   "source": [
    "print(f\"The first element of the rdd: {rdd.first()}\")"
   ]
  },
  {
   "cell_type": "code",
   "execution_count": 9,
   "id": "1570d2f1-b381-4418-8e5f-4678c78d4398",
   "metadata": {},
   "outputs": [
    {
     "name": "stdout",
     "output_type": "stream",
     "text": [
      "The first two elements of the rdd: [('Alice', 25), ('Bob', 30)]\n"
     ]
    }
   ],
   "source": [
    "print(f\"The first two elements of the rdd: {rdd.take(2)}\")"
   ]
  },
  {
   "cell_type": "code",
   "execution_count": 10,
   "id": "58c919b0-aa26-4b86-b435-9b558e845c97",
   "metadata": {},
   "outputs": [
    {
     "name": "stderr",
     "output_type": "stream",
     "text": [
      "('Bob', 30)\n",
      "('Charlie', 35)\n",
      "('Alice', 25)\n",
      "('Alice', 40)\n"
     ]
    }
   ],
   "source": [
    "rdd.foreach(lambda x: print(x))"
   ]
  },
  {
   "cell_type": "markdown",
   "id": "9c921542-8c6e-4cdc-8982-8f48387c893e",
   "metadata": {},
   "source": [
    "# RDDs Operation: Transformation"
   ]
  },
  {
   "cell_type": "code",
   "execution_count": 11,
   "id": "ccbe0022-445c-41b2-82f4-3731406ddbbd",
   "metadata": {},
   "outputs": [],
   "source": [
    "mapped_rdd = rdd.map(lambda x: (x[0].upper(), x[1]))"
   ]
  },
  {
   "cell_type": "code",
   "execution_count": 12,
   "id": "bb4a7ec0-d3fc-41cc-937c-2ddaeefbfcba",
   "metadata": {},
   "outputs": [
    {
     "data": {
      "text/plain": [
       "PythonRDD[9] at RDD at PythonRDD.scala:53"
      ]
     },
     "execution_count": 12,
     "metadata": {},
     "output_type": "execute_result"
    }
   ],
   "source": [
    "mapped_rdd"
   ]
  },
  {
   "cell_type": "code",
   "execution_count": 13,
   "id": "5cd640d3-dfe8-4c13-a4ca-9c1d67f249f8",
   "metadata": {},
   "outputs": [
    {
     "name": "stdout",
     "output_type": "stream",
     "text": [
      "rdd with uppercase name: [('ALICE', 25), ('BOB', 30), ('CHARLIE', 35), ('ALICE', 40)]\n"
     ]
    }
   ],
   "source": [
    "print(f\"rdd with uppercase name: {mapped_rdd.collect()}\")"
   ]
  },
  {
   "cell_type": "code",
   "execution_count": 15,
   "id": "d7f63224-61ce-42f5-b3b0-c064fb26e39e",
   "metadata": {},
   "outputs": [
    {
     "data": {
      "text/plain": [
       "[('Charlie', 35), ('Alice', 40)]"
      ]
     },
     "execution_count": 15,
     "metadata": {},
     "output_type": "execute_result"
    }
   ],
   "source": [
    "filtered_rdd = rdd.filter(lambda x: x[1] > 30)\n",
    "filtered_rdd.collect()"
   ]
  },
  {
   "cell_type": "code",
   "execution_count": 16,
   "id": "d9edb77a-a085-477b-bbf0-7fe5ee9c5a52",
   "metadata": {},
   "outputs": [
    {
     "data": {
      "text/plain": [
       "[('Charlie', 35), ('Bob', 30), ('Alice', 65)]"
      ]
     },
     "execution_count": 16,
     "metadata": {},
     "output_type": "execute_result"
    }
   ],
   "source": [
    "reduced_rdd = rdd.reduceByKey(lambda x, y: x + y)\n",
    "reduced_rdd.collect()"
   ]
  },
  {
   "cell_type": "code",
   "execution_count": 17,
   "id": "9547b82e-6cc1-4590-ab8f-194eee33026d",
   "metadata": {},
   "outputs": [
    {
     "data": {
      "text/plain": [
       "[('Alice', 40), ('Charlie', 35), ('Bob', 30), ('Alice', 25)]"
      ]
     },
     "execution_count": 17,
     "metadata": {},
     "output_type": "execute_result"
    }
   ],
   "source": [
    "sorted_rdd = rdd.sortBy(lambda x: x[1], ascending=False)\n",
    "sorted_rdd.collect()"
   ]
  },
  {
   "cell_type": "markdown",
   "id": "9d74587a-95ca-4187-88aa-ba4433bb5ce2",
   "metadata": {},
   "source": [
    "# Save RDDs to text file and read RDDs from text file"
   ]
  },
  {
   "cell_type": "code",
   "execution_count": 18,
   "id": "e27a2fb1-56e4-491c-b5ff-3a08cc2ea6e6",
   "metadata": {},
   "outputs": [],
   "source": [
    "rdd.saveAsTextFile(\"output.txt\")"
   ]
  },
  {
   "cell_type": "code",
   "execution_count": null,
   "id": "7fbef7f4-1d57-47cb-94b8-99be4601b366",
   "metadata": {},
   "outputs": [],
   "source": [
    "rdd_text = spark.sparkContext.textFile(\"output.txt\")"
   ]
  }
 ],
 "metadata": {
  "kernelspec": {
   "display_name": "Python 3 (ipykernel)",
   "language": "python",
   "name": "python3"
  },
  "language_info": {
   "codemirror_mode": {
    "name": "ipython",
    "version": 3
   },
   "file_extension": ".py",
   "mimetype": "text/x-python",
   "name": "python",
   "nbconvert_exporter": "python",
   "pygments_lexer": "ipython3",
   "version": "3.10.15"
  }
 },
 "nbformat": 4,
 "nbformat_minor": 5
}
